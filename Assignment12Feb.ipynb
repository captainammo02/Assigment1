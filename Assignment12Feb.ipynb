{
 "cells": [
  {
   "cell_type": "code",
   "execution_count": null,
   "id": "879d5cba-1824-4522-93ec-6506ffe22a0c",
   "metadata": {},
   "outputs": [],
   "source": [
    "Q1. What is an Exception in python? Write the difference between Exceptions and syntax errors?"
   ]
  },
  {
   "cell_type": "markdown",
   "id": "8f679026-1378-448a-a175-49ecb42951b0",
   "metadata": {},
   "source": [
    "In Python, an exception is an error that occurs during the execution of a program. Exceptions are raised when the interpreter encounters an error that it cannot handle.\n",
    "\n",
    "Syntax errors occur when the Python interpreter cannot understand the code that you have written. They are caused by incorrect syntax, such as forgetting to close a parenthesis or using an incorrect keyword.\n",
    "The main differences between exceptions and syntax errors are:\n",
    "\n",
    "1.Timing: Syntax errors are detected by the Python interpreter when it first reads your code, before the program even starts running. Exceptions, on the other hand, are raised during the execution of a program, when an error occurs that cannot be handled by the current code.\n",
    "\n",
    "2.Cause: Syntax errors are caused by incorrect syntax, such as missing brackets or semicolons. Exceptions are caused by errors that occur during the execution of a program, such as attempting to divide by zero or accessing an index that doesn't exist.\n",
    "\n",
    "3.Handling: Syntax errors can be fixed by correcting the code that caused them. Exceptions can be handled using try-except blocks, which allow you to catch the exception and handle it gracefully without causing the program to crash."
   ]
  },
  {
   "cell_type": "code",
   "execution_count": null,
   "id": "bb97bd28-af55-47a1-8d24-1d9f7297d7b9",
   "metadata": {},
   "outputs": [],
   "source": [
    "Q2. What happens when an exception is not handled? Explain with an example"
   ]
  },
  {
   "cell_type": "markdown",
   "id": "7708573f-8ef7-47ff-a98e-8e7f318f467d",
   "metadata": {},
   "source": [
    "When an exception is not handled, the program will terminate abruptly and display an error message that describes the exception. This can be problematic if the program is being used by end-users, as they may not understand the error message or know how to fix the problem.\n",
    "\n",
    "Here's an example to illustrate this:"
   ]
  },
  {
   "cell_type": "code",
   "execution_count": 1,
   "id": "7ac54504-2171-4ebe-92fd-dea1d4399a57",
   "metadata": {},
   "outputs": [
    {
     "ename": "ZeroDivisionError",
     "evalue": "division by zero",
     "output_type": "error",
     "traceback": [
      "\u001b[0;31m---------------------------------------------------------------------------\u001b[0m",
      "\u001b[0;31mZeroDivisionError\u001b[0m                         Traceback (most recent call last)",
      "Cell \u001b[0;32mIn[1], line 3\u001b[0m\n\u001b[1;32m      1\u001b[0m numerator \u001b[38;5;241m=\u001b[39m \u001b[38;5;241m10\u001b[39m\n\u001b[1;32m      2\u001b[0m denominator \u001b[38;5;241m=\u001b[39m \u001b[38;5;241m0\u001b[39m\n\u001b[0;32m----> 3\u001b[0m result \u001b[38;5;241m=\u001b[39m \u001b[43mnumerator\u001b[49m\u001b[43m \u001b[49m\u001b[38;5;241;43m/\u001b[39;49m\u001b[43m \u001b[49m\u001b[43mdenominator\u001b[49m\n\u001b[1;32m      4\u001b[0m \u001b[38;5;28mprint\u001b[39m(result)\n",
      "\u001b[0;31mZeroDivisionError\u001b[0m: division by zero"
     ]
    }
   ],
   "source": [
    "numerator = 10\n",
    "denominator = 0\n",
    "result = numerator / denominator\n",
    "print(result)\n",
    "\n",
    "# In this example, we are trying to divide the numerator (10) by the denominator (0). \n",
    "# Since division by zero is not allowed, this will raise a ZeroDivisionError exception. \n",
    "# If we do not handle this exception, the program will terminate with the following error message:"
   ]
  },
  {
   "cell_type": "code",
   "execution_count": 3,
   "id": "d32b4abd-53f1-4849-9b81-eb85e784d666",
   "metadata": {},
   "outputs": [
    {
     "name": "stdout",
     "output_type": "stream",
     "text": [
      "Error: Cannot divide by zero\n"
     ]
    }
   ],
   "source": [
    "# As we can see, the error message is not very user-friendly and may not be understood by end-users. \n",
    "# In addition, the program has terminated before it could complete any further tasks.\n",
    "# To avoid this, we can handle the exception using a try-except block:\n",
    "numerator = 10\n",
    "denominator = 0\n",
    "try:\n",
    "    result = numerator / denominator\n",
    "    print(result)\n",
    "except ZeroDivisionError:\n",
    "    print(\"Error: Cannot divide by zero\")\n",
    "\n",
    "# In this version of the code, we have wrapped the division operation in a try block and caught \n",
    "# any ZeroDivisionError exceptions with an except block. \n",
    "# Now, if the user attempts to divide by zero, \n",
    "# the program will output a more user-friendly error message and continue to execute any remaining code."
   ]
  },
  {
   "cell_type": "code",
   "execution_count": null,
   "id": "d16cb709-0da6-45ba-b2b2-bb1d445ae9fe",
   "metadata": {},
   "outputs": [],
   "source": [
    "Q3. Which python statements are used to catch and handle exceptions? Explain with an example."
   ]
  },
  {
   "cell_type": "markdown",
   "id": "7dd3f2e2-32de-41a5-af59-29b5b6930487",
   "metadata": {},
   "source": [
    "In Python, the try and except statements are used to catch and handle exceptions.\n",
    "\n",
    "The try statement is used to wrap a block of code that might raise an exception. If an exception occurs within this block of code, Python will immediately jump to the except block to handle the exception.\n",
    "\n",
    "The except statement is used to specify the type of exception that we want to catch and handle. If an exception of the specified type is raised within the try block, the code within the except block will be executed."
   ]
  },
  {
   "cell_type": "code",
   "execution_count": 4,
   "id": "573b64fe-762f-4116-8f72-ee2cad7086cc",
   "metadata": {},
   "outputs": [
    {
     "name": "stdout",
     "output_type": "stream",
     "text": [
      "Error: Cannot divide by zero\n"
     ]
    }
   ],
   "source": [
    "numerator = 10\n",
    "denominator = 0\n",
    "try:\n",
    "    result = numerator / denominator\n",
    "    print(result)\n",
    "except ZeroDivisionError:\n",
    "    print(\"Error: Cannot divide by zero\")\n",
    "\n",
    "# We have wrapped the division operation in a try block and caught the ZeroDivisionError exception with an except block. \n",
    "# If the try block raises a ZeroDivisionError, the code within the except block will be executed, \n",
    "# and the error message \"Error: Cannot divide by zero\" will be printed to the console.\n",
    "# By catching and handling exceptions in this way, we can prevent our programs from crashing and \n",
    "# provide more informative error messages to end-users."
   ]
  },
  {
   "cell_type": "code",
   "execution_count": null,
   "id": "2f10e32b-a81e-4969-9b3f-eb9fc6a8cf4a",
   "metadata": {},
   "outputs": [],
   "source": [
    "Q4. Explain with one example\n",
    "a. try and else\n",
    "b. finally\n",
    "c. raise"
   ]
  },
  {
   "cell_type": "code",
   "execution_count": 5,
   "id": "ee21d07f-1d66-44fc-8e98-717bc1cca532",
   "metadata": {},
   "outputs": [
    {
     "name": "stdin",
     "output_type": "stream",
     "text": [
      "Enter the first number:  10\n",
      "Enter the second number:  0\n"
     ]
    },
    {
     "name": "stdout",
     "output_type": "stream",
     "text": [
      "Error: Cannot divide by zero\n"
     ]
    }
   ],
   "source": [
    "# a. try and else\n",
    "try:\n",
    "    num1 = int(input(\"Enter the first number: \"))\n",
    "    num2 = int(input(\"Enter the second number: \"))\n",
    "    result = num1 / num2\n",
    "except ZeroDivisionError:\n",
    "    print(\"Error: Cannot divide by zero\")\n",
    "else:\n",
    "    print(\"The result of dividing {0} by {1} is {2}\".format(num1, num2, result))\n"
   ]
  },
  {
   "cell_type": "code",
   "execution_count": 6,
   "id": "f1a579da-9f7b-4da2-b323-730694acb4c8",
   "metadata": {},
   "outputs": [
    {
     "name": "stdout",
     "output_type": "stream",
     "text": [
      "This is some text that will be written to the file.\n"
     ]
    }
   ],
   "source": [
    "# b. finally\n",
    "try:\n",
    "    file = open(\"example.txt\", \"r\")\n",
    "    print(file.read())\n",
    "finally:\n",
    "    file.close()\n"
   ]
  },
  {
   "cell_type": "code",
   "execution_count": 7,
   "id": "971fb674-a435-4355-8221-512bb9721c42",
   "metadata": {},
   "outputs": [
    {
     "name": "stdout",
     "output_type": "stream",
     "text": [
      "Cannot divide by zero\n"
     ]
    }
   ],
   "source": [
    "# c. raise\n",
    "def divide(num1, num2):\n",
    "    if num2 == 0:\n",
    "        raise ZeroDivisionError(\"Cannot divide by zero\")\n",
    "    return num1 / num2\n",
    "\n",
    "try:\n",
    "    result = divide(10, 0)\n",
    "except ZeroDivisionError as e:\n",
    "    print(e)\n"
   ]
  },
  {
   "cell_type": "code",
   "execution_count": null,
   "id": "23d0e90e-4135-4199-886d-2414775e737e",
   "metadata": {},
   "outputs": [],
   "source": [
    "Q5. What are custom exceptions in python? Why do we need custom exception? Explain with example"
   ]
  },
  {
   "cell_type": "markdown",
   "id": "a2ddbe52-a5b2-41e6-9faa-30438e9863b7",
   "metadata": {},
   "source": [
    "In Python, custom exceptions are user-defined exceptions that are created by extending existing exception classes or creating new ones. Custom exceptions can be used to handle specific types of errors that are not covered by the built-in exceptions.\n",
    "\n",
    "We need custom exceptions in Python to provide more specific information about an error that occurs in our program. Custom exceptions allow us to create a more meaningful error message that can help us understand the source of the error and take appropriate action to resolve it."
   ]
  },
  {
   "cell_type": "code",
   "execution_count": 8,
   "id": "32670977-ad07-43cc-ac04-8fe5135368e0",
   "metadata": {},
   "outputs": [
    {
     "name": "stdout",
     "output_type": "stream",
     "text": [
      "Number should be less than or equal to 10\n"
     ]
    }
   ],
   "source": [
    "class MyCustomException(Exception):\n",
    "    pass\n",
    "\n",
    "def check_number(num):\n",
    "    if num > 10:\n",
    "        raise MyCustomException(\"Number should be less than or equal to 10\")\n",
    "    else:\n",
    "        print(\"Number is valid\")\n",
    "\n",
    "try:\n",
    "    check_number(15)\n",
    "except MyCustomException as e:\n",
    "    print(e)\n"
   ]
  },
  {
   "cell_type": "code",
   "execution_count": null,
   "id": "2552d5ca-b46e-4462-9d52-eecda788154d",
   "metadata": {},
   "outputs": [],
   "source": []
  }
 ],
 "metadata": {
  "kernelspec": {
   "display_name": "Python 3 (ipykernel)",
   "language": "python",
   "name": "python3"
  },
  "language_info": {
   "codemirror_mode": {
    "name": "ipython",
    "version": 3
   },
   "file_extension": ".py",
   "mimetype": "text/x-python",
   "name": "python",
   "nbconvert_exporter": "python",
   "pygments_lexer": "ipython3",
   "version": "3.10.8"
  }
 },
 "nbformat": 4,
 "nbformat_minor": 5
}
