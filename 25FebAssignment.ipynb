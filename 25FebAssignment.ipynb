{
 "cells": [
  {
   "cell_type": "markdown",
   "id": "315857d4-656e-4f0a-8ba8-a379896d3d86",
   "metadata": {},
   "source": [
    "Consider following code to answer further questions:\n",
    "import pandas as pd\n",
    "course_name = [‘Data Science’, ‘Machine Learning’, ‘Big Data’, ‘Data Engineer’]\n",
    "duration = [2,3,6,4]\n",
    "df = pd.DataFrame(data = {‘course_name’ : course_name, ‘duration’ : duration})\n",
    "\n",
    "\n",
    "Q1. Write a code to print the data present in the second row of the dataframe, df."
   ]
  },
  {
   "cell_type": "code",
   "execution_count": 2,
   "id": "d3989905-b6ac-4211-baf6-e9a7683a07d1",
   "metadata": {},
   "outputs": [
    {
     "name": "stdout",
     "output_type": "stream",
     "text": [
      "course_name    Machine Learning\n",
      "duration                      3\n",
      "Name: 1, dtype: object\n"
     ]
    }
   ],
   "source": [
    "import pandas as pd \n",
    "\n",
    "course_name = ['Data Science', 'Machine Learning', 'Big Data', 'Data Engineer']\n",
    "duration = [2, 3, 6, 4]\n",
    "df = pd.DataFrame(data={'course_name': course_name, 'duration': duration})\n",
    "\n",
    " \n",
    "second_row = df.iloc[1]\n",
    "print(second_row)\n"
   ]
  },
  {
   "cell_type": "markdown",
   "id": "00d96e5a-02fe-45e7-80ff-eebead6f01dc",
   "metadata": {},
   "source": [
    "Q2. What is the difference between the functions loc and iloc in pandas.DataFrame?"
   ]
  },
  {
   "cell_type": "code",
   "execution_count": null,
   "id": "09355820-7403-40ea-9de3-c207dffdb92a",
   "metadata": {},
   "outputs": [],
   "source": [
    "# Both loc and iloc are used to access the data in a Pandas DataFrame, but they differ in how they access the data.\n",
    "\n",
    "# loc is label-based indexing, which means that it accesses the data based on the labels of rows or columns. We can use loc to access rows and columns by their label or a boolean array. The syntax for using loc is as follows:\n",
    "df.loc[row_label, column_label]\n"
   ]
  },
  {
   "cell_type": "code",
   "execution_count": null,
   "id": "28495eea-356f-4d96-bc49-46597b2ff57b",
   "metadata": {},
   "outputs": [],
   "source": [
    "# iloc is integer-based indexing, which means that it accesses the data based on the integer position of rows or columns. We can use iloc to access rows and columns by their integer position or a boolean array. The syntax for using iloc is as follows:\n",
    "df.iloc[row_index, column_index]"
   ]
  },
  {
   "cell_type": "markdown",
   "id": "24c75b59-1f9c-4f2e-9690-9c419bef4382",
   "metadata": {},
   "source": [
    "So, the main difference between loc and iloc is the way they access the data. loc uses labels, while iloc uses integer positions. It's important to note that loc includes the last label in a range, while iloc does not include the last integer in a range.\n",
    "\n",
    "For example, if we have a DataFrame df with index labels [0, 1, 2, 3] and we want to select the rows with labels between 1 and 3, we would use df.loc[1:3]. This would select rows with labels 1, 2, and 3. However, if we use df.iloc[1:3], this would select rows with integer positions 1 and 2, but not 3."
   ]
  },
  {
   "cell_type": "markdown",
   "id": "4e18ce25-e3aa-468d-9cdb-f24ae608f3a9",
   "metadata": {},
   "source": [
    "Q3. Reindex the given dataframe using a variable, reindex = [3,0,1,2] and store it in the variable, new_df\n",
    "then find the output for both new_df.loc[2] and new_df.iloc[2]."
   ]
  },
  {
   "cell_type": "code",
   "execution_count": 3,
   "id": "559c87e3-9b2f-4940-a9f1-60b45aac0b96",
   "metadata": {},
   "outputs": [
    {
     "name": "stdout",
     "output_type": "stream",
     "text": [
      "        course_name  duration\n",
      "3     Data Engineer         4\n",
      "0      Data Science         2\n",
      "1  Machine Learning         3\n",
      "2          Big Data         6\n"
     ]
    }
   ],
   "source": [
    "import pandas as pd\n",
    "\n",
    "course_name = ['Data Science', 'Machine Learning', 'Big Data', 'Data Engineer']\n",
    "duration = [2, 3, 6, 4]\n",
    "df = pd.DataFrame(data={'course_name': course_name, 'duration': duration})\n",
    "\n",
    "reindex = [3, 0, 1, 2]\n",
    "new_df = df.reindex(reindex)\n",
    "\n",
    "print(new_df)\n"
   ]
  },
  {
   "cell_type": "code",
   "execution_count": 4,
   "id": "c03924b0-7901-479b-95b4-b395abe4ddf3",
   "metadata": {},
   "outputs": [
    {
     "name": "stdout",
     "output_type": "stream",
     "text": [
      "course_name    Big Data\n",
      "duration              6\n",
      "Name: 2, dtype: object\n"
     ]
    }
   ],
   "source": [
    "print(new_df.loc[2])\n"
   ]
  },
  {
   "cell_type": "code",
   "execution_count": 5,
   "id": "e36118bb-d885-483e-8d88-c5362f87691c",
   "metadata": {},
   "outputs": [
    {
     "name": "stdout",
     "output_type": "stream",
     "text": [
      "course_name    Machine Learning\n",
      "duration                      3\n",
      "Name: 1, dtype: object\n"
     ]
    }
   ],
   "source": [
    "print(new_df.iloc[2])\n"
   ]
  },
  {
   "cell_type": "markdown",
   "id": "dde894de-f6f1-46d8-ab6a-3dca4c108856",
   "metadata": {},
   "source": [
    "Did you observe any difference in both the outputs? If so then explain it.\n",
    "Consider the below code to answer further questions:\n",
    "import pandas as pd\n",
    "import numpy as np\n",
    "columns = ['column_1', 'column_2', 'column_3', 'column_4', 'column_5', 'column_6']\n",
    "indices = [1,2,3,4,5,6]\n",
    "#Creating a dataframe:\n",
    "df1 = pd.DataFrame(np.random.rand(6,6), columns = columns, index = indices)\n",
    "\n",
    "Q4. Write a code to find the following statistical measurements for the above dataframe df1:\n",
    "(i) mean of each and every column present in the dataframe.\n",
    "(ii) standard deviation of column, ‘column_2’"
   ]
  },
  {
   "cell_type": "markdown",
   "id": "ae0b6926-6ec1-4a85-9109-680ec89bcb06",
   "metadata": {},
   "source": [
    "Yes, there is a difference in the outputs of new_df.loc[2] and new_df.iloc[2].\n",
    "\n",
    "new_df.loc[2] selects the row with the label 2, which is the row with index label 1 in the original DataFrame df. On the other hand, new_df.iloc[2] selects the row with the integer position 2, which is the row with index label 3 in the original DataFrame df. This is because the rows of new_df have been reindexed based on the order of the reindex list, and the original index labels have been replaced with the corresponding values in the reindex list.\n",
    "\n",
    "Now, to answer the given question, we can use the following code to find the mean of each column and the standard deviation of column 'column_2' in the dataframe df1:"
   ]
  },
  {
   "cell_type": "code",
   "execution_count": 6,
   "id": "2b915a27-c402-45af-90e1-8e26a7645bae",
   "metadata": {},
   "outputs": [
    {
     "name": "stdout",
     "output_type": "stream",
     "text": [
      "Mean of each column:\n",
      "column_1    0.587899\n",
      "column_2    0.229155\n",
      "column_3    0.596252\n",
      "column_4    0.488407\n",
      "column_5    0.503313\n",
      "column_6    0.468946\n",
      "dtype: float64\n",
      "Standard deviation of column 'column_2':\n",
      "0.23026495046714568\n"
     ]
    }
   ],
   "source": [
    "import pandas as pd\n",
    "import numpy as np\n",
    "\n",
    "columns = ['column_1', 'column_2', 'column_3', 'column_4', 'column_5', 'column_6']\n",
    "indices = [1,2,3,4,5,6]\n",
    "\n",
    "# Creating a dataframe\n",
    "df1 = pd.DataFrame(np.random.rand(6,6), columns=columns, index=indices)\n",
    "\n",
    "# Mean of each column\n",
    "print(\"Mean of each column:\")\n",
    "print(df1.mean())\n",
    "\n",
    "# Standard deviation of column 'column_2'\n",
    "print(\"Standard deviation of column 'column_2':\")\n",
    "print(df1['column_2'].std())\n"
   ]
  },
  {
   "cell_type": "markdown",
   "id": "f0d6e1ac-cd3a-445e-a0ae-42dc48cdfaa5",
   "metadata": {},
   "source": [
    "Q5. Replace the data present in the second row of column, ‘column_2’ by a string variable then find the\n",
    "mean of column, column_2.\n",
    "If you are getting errors in executing it then explain why.\n",
    "[Hint: To replace the data use df1.loc[] and equate this to string data of your choice.]"
   ]
  },
  {
   "cell_type": "code",
   "execution_count": 7,
   "id": "32e9b995-f3ec-4c8b-99b8-8982f5c113e2",
   "metadata": {},
   "outputs": [],
   "source": [
    "df1.loc[2, 'column_2'] = 'string_data'\n"
   ]
  },
  {
   "cell_type": "code",
   "execution_count": 8,
   "id": "3425f577-9e9d-41bf-8538-23366b29fa18",
   "metadata": {},
   "outputs": [
    {
     "name": "stdout",
     "output_type": "stream",
     "text": [
      "Mean of column 'column_2': 0.24314188563544903\n"
     ]
    }
   ],
   "source": [
    "df1['column_2'] = pd.to_numeric(df1['column_2'], errors='coerce')\n",
    "print(\"Mean of column 'column_2':\", df1['column_2'].mean())\n"
   ]
  },
  {
   "cell_type": "markdown",
   "id": "41c1a249-477c-463f-a09a-fdb73e988cd0",
   "metadata": {},
   "source": [
    "Q6. What do you understand about the windows function in pandas and list the types of windows\n",
    "functions?"
   ]
  },
  {
   "cell_type": "markdown",
   "id": "516a2a84-53de-422b-a687-a721a750611c",
   "metadata": {},
   "source": [
    "In pandas, a window function is a way to perform calculations on a sliding window of data in a DataFrame or Series. A window function applies a function to a specified window of data, which moves through the DataFrame or Series, producing a new output value at each step.\n",
    "\n",
    "Window functions are commonly used in time series analysis and signal processing to smooth out data and remove noise, identify trends, or detect anomalies. Some common types of window functions include:\n",
    "\n",
    "Rolling window functions: These functions apply a calculation to a specified window of data, which slides along the Series or DataFrame. The rolling() method of a Series or DataFrame object can be used to apply these types of functions.\n",
    "\n",
    "Expanding window functions: These functions apply a calculation to all data points up to and including the current data point. The expanding() method of a Series or DataFrame object can be used to apply these types of functions.\n",
    "\n",
    "Exponentially weighted window functions: These functions apply a weighted average to a specified window of data, with the most recent data points weighted more heavily than older data points. The ewm() method of a Series or DataFrame object can be used to apply these types of functions.\n",
    "\n",
    "Aggregation window functions: These functions apply an aggregation function (such as sum, mean, or count) to a specified window of data. The rolling() method can also be used to apply these types of functions, with the aggregation function specified as a parameter.\n",
    "\n",
    "By using these window functions, we can perform various types of data analysis tasks like data smoothing, trend analysis, anomaly detection, etc."
   ]
  },
  {
   "cell_type": "markdown",
   "id": "6d7e98bb-3e5f-4790-bfd8-868f0c71268e",
   "metadata": {},
   "source": [
    "Q7. Write a code to print only the current month and year at the time of answering this question.\n",
    "[Hint: Use pandas.datetime function]"
   ]
  },
  {
   "cell_type": "code",
   "execution_count": 11,
   "id": "837ab8c8-7844-488a-80e8-27dc09ba1dc0",
   "metadata": {},
   "outputs": [
    {
     "name": "stdout",
     "output_type": "stream",
     "text": [
      "Current month: 3\n",
      "Current year: 2023\n"
     ]
    },
    {
     "name": "stderr",
     "output_type": "stream",
     "text": [
      "/tmp/ipykernel_70/934091005.py:4: FutureWarning: The pandas.datetime class is deprecated and will be removed from pandas in a future version. Import from datetime module instead.\n",
      "  now = pd.datetime.now()\n"
     ]
    }
   ],
   "source": [
    "import pandas as pd\n",
    "\n",
    "# create a datetime object with the current date and time\n",
    "now = pd.datetime.now()\n",
    "\n",
    "# extract the current month and year from the datetime object\n",
    "current_month = now.month\n",
    "current_year = now.year\n",
    "\n",
    "# print the current month and year\n",
    "print(\"Current month:\", current_month)\n",
    "print(\"Current year:\", current_year)\n"
   ]
  },
  {
   "cell_type": "markdown",
   "id": "b9ad3019-4724-4097-854e-c8a88120098d",
   "metadata": {},
   "source": [
    "Q8. Write a Python program that takes in two dates as input (in the format YYYY-MM-DD) and\n",
    "calculates the difference between them in days, hours, and minutes using Pandas time delta. The\n",
    "program should prompt the user to enter the dates and display the result."
   ]
  },
  {
   "cell_type": "code",
   "execution_count": 12,
   "id": "666e0f66-fe73-44ff-9b04-54bf1e11e639",
   "metadata": {},
   "outputs": [
    {
     "name": "stdin",
     "output_type": "stream",
     "text": [
      "Enter the first date (YYYY-MM-DD):  2023-02-10\n",
      "Enter the second date (YYYY-MM-DD):  2022-10-02\n"
     ]
    },
    {
     "name": "stdout",
     "output_type": "stream",
     "text": [
      "The difference between 2023-02-10 and 2022-10-02 is:\n",
      "-131 days, 0 hours, and 0 minutes.\n"
     ]
    }
   ],
   "source": [
    "import pandas as pd\n",
    "\n",
    "# prompt the user to enter the dates\n",
    "date1 = input(\"Enter the first date (YYYY-MM-DD): \")\n",
    "date2 = input(\"Enter the second date (YYYY-MM-DD): \")\n",
    "\n",
    "# convert the input strings to pandas datetime objects\n",
    "date1 = pd.to_datetime(date1)\n",
    "date2 = pd.to_datetime(date2)\n",
    "\n",
    "# calculate the timedelta between the two dates\n",
    "timedelta = date2 - date1\n",
    "\n",
    "# extract the number of days, hours, and minutes from the timedelta\n",
    "days = timedelta.days\n",
    "hours = timedelta.seconds // 3600\n",
    "minutes = (timedelta.seconds // 60) % 60\n",
    "\n",
    "# display the result\n",
    "print(\"The difference between\", date1.date(), \"and\", date2.date(), \"is:\")\n",
    "print(days, \"days,\", hours, \"hours,\", \"and\", minutes, \"minutes.\")\n"
   ]
  },
  {
   "cell_type": "markdown",
   "id": "2c7bb719-6eb3-4fd2-8d38-44bc19e91c9b",
   "metadata": {},
   "source": [
    "Q9. Write a Python program that reads a CSV file containing categorical data and converts a specified\n",
    "column to a categorical data type. The program should prompt the user to enter the file path, column\n",
    "name, and category order, and then display the sorted data."
   ]
  },
  {
   "cell_type": "code",
   "execution_count": 16,
   "id": "573b60e8-a871-4ce9-a1e5-2e5cf469876a",
   "metadata": {},
   "outputs": [
    {
     "name": "stdin",
     "output_type": "stream",
     "text": [
      "Enter the file path:  https://raw.githubusercontent.com/datasciencedojo/datasets/master/titanic.csv\n",
      "Enter the column name:  Age\n",
      "Enter the category order (comma-separated):  bool\n"
     ]
    },
    {
     "name": "stdout",
     "output_type": "stream",
     "text": [
      "     PassengerId  Survived  Pclass  \\\n",
      "0              1         0       3   \n",
      "1              2         1       1   \n",
      "2              3         1       3   \n",
      "3              4         1       1   \n",
      "4              5         0       3   \n",
      "..           ...       ...     ...   \n",
      "886          887         0       2   \n",
      "887          888         1       1   \n",
      "888          889         0       3   \n",
      "889          890         1       1   \n",
      "890          891         0       3   \n",
      "\n",
      "                                                  Name     Sex  Age  SibSp  \\\n",
      "0                              Braund, Mr. Owen Harris    male  NaN      1   \n",
      "1    Cumings, Mrs. John Bradley (Florence Briggs Th...  female  NaN      1   \n",
      "2                               Heikkinen, Miss. Laina  female  NaN      0   \n",
      "3         Futrelle, Mrs. Jacques Heath (Lily May Peel)  female  NaN      1   \n",
      "4                             Allen, Mr. William Henry    male  NaN      0   \n",
      "..                                                 ...     ...  ...    ...   \n",
      "886                              Montvila, Rev. Juozas    male  NaN      0   \n",
      "887                       Graham, Miss. Margaret Edith  female  NaN      0   \n",
      "888           Johnston, Miss. Catherine Helen \"Carrie\"  female  NaN      1   \n",
      "889                              Behr, Mr. Karl Howell    male  NaN      0   \n",
      "890                                Dooley, Mr. Patrick    male  NaN      0   \n",
      "\n",
      "     Parch            Ticket     Fare Cabin Embarked  \n",
      "0        0         A/5 21171   7.2500   NaN        S  \n",
      "1        0          PC 17599  71.2833   C85        C  \n",
      "2        0  STON/O2. 3101282   7.9250   NaN        S  \n",
      "3        0            113803  53.1000  C123        S  \n",
      "4        0            373450   8.0500   NaN        S  \n",
      "..     ...               ...      ...   ...      ...  \n",
      "886      0            211536  13.0000   NaN        S  \n",
      "887      0            112053  30.0000   B42        S  \n",
      "888      2        W./C. 6607  23.4500   NaN        S  \n",
      "889      0            111369  30.0000  C148        C  \n",
      "890      0            370376   7.7500   NaN        Q  \n",
      "\n",
      "[891 rows x 12 columns]\n"
     ]
    }
   ],
   "source": [
    "import pandas as pd\n",
    "\n",
    "# prompt the user to enter the file path and column name\n",
    "file_path = input(\"Enter the file path: \")\n",
    "col_name = input(\"Enter the column name: \")\n",
    "\n",
    "# read the CSV file into a pandas DataFrame\n",
    "df = pd.read_csv(file_path)\n",
    "\n",
    "# prompt the user to enter the category order\n",
    "cat_order = input(\"Enter the category order (comma-separated): \")\n",
    "cat_order = [x.strip() for x in cat_order.split(\",\")]\n",
    "\n",
    "# convert the specified column to a categorical data type with the specified category order\n",
    "df[col_name] = pd.Categorical(df[col_name], categories=cat_order, ordered=True)\n",
    "\n",
    "# display the sorted data\n",
    "df = df.sort_values(col_name)\n",
    "print(df)\n"
   ]
  },
  {
   "cell_type": "markdown",
   "id": "20a3b56b-9a6c-4ae4-b096-187fc31dcf44",
   "metadata": {},
   "source": [
    "Q10. Write a Python program that reads a CSV file containing sales data for different products and\n",
    "visualizes the data using a stacked bar chart to show the sales of each product category over time. The\n",
    "program should prompt the user to enter the file path and display the chart."
   ]
  },
  {
   "cell_type": "code",
   "execution_count": null,
   "id": "6d701b41-bc60-4773-861d-e6decc582c9e",
   "metadata": {},
   "outputs": [],
   "source": [
    "import pandas as pd\n",
    "import matplotlib.pyplot as plt\n",
    "\n",
    "# prompt the user to enter the file path\n",
    "file_path = input(\"Enter the file path: \")\n",
    "\n",
    "# read the CSV file into a pandas DataFrame\n",
    "df = pd.read_csv(file_path)\n",
    "\n",
    "# convert the date column to a pandas datetime object\n",
    "df['Date'] = pd.to_datetime(df['Date'])\n",
    "\n",
    "# group the data by product category and date\n",
    "grouped = df.groupby(['Product Category', 'Date']).sum()\n",
    "\n",
    "# reshape the data to have product categories as columns\n",
    "stacked = grouped.unstack(level=0)\n",
    "\n",
    "# plot the stacked bar chart\n",
    "stacked.plot(kind='bar', stacked=True)\n",
    "\n",
    "# set the chart title and labels\n",
    "plt.title(\"Sales by Product Category\")\n",
    "plt.xlabel(\"Date\")\n",
    "plt.ylabel(\"Sales\")\n",
    "\n",
    "# display the chart\n",
    "plt.show()\n"
   ]
  },
  {
   "cell_type": "markdown",
   "id": "73fdc92f-0e7b-4f4f-95ec-bb658efb8830",
   "metadata": {},
   "source": [
    "Q11. You are given a CSV file containing student data that includes the student ID and their test score. Write\n",
    "a Python program that reads the CSV file, calculates the mean, median, and mode of the test scores, and\n",
    "displays the results in a table.\n",
    "The program should do the followingM\n",
    "I Prompt the user to enter the file path of the CSV file containing the student dataR\n",
    "I Read the CSV file into a Pandas DataFrameR\n",
    "I Calculate the mean, median, and mode of the test scores using Pandas toolsR\n",
    "I Display the mean, median, and mode in a table.\n",
    "Assume the CSV file contains the following columnsM\n",
    "I Student ID: The ID of the studentR\n",
    "I Test Score: The score of the student's test.\n",
    "Example usage of the program:\n",
    "Enter the file path of the CSV file containing the student data: student_data.csv\n",
    "+-----------+--------+\n",
    "| Statistic | Value |\n",
    "+-----------+--------+\n",
    "| Mean | 79.6 |\n",
    "| Median | 82 |\n",
    "| Mode | 85, 90 |\n",
    "+-----------+--------+\n",
    "Assume that the CSV file student_data.csv contains the following data:\n",
    "Student ID,Test Score\n",
    "1,85\n",
    "2,90\n",
    "3,80\n",
    "4,75\n",
    "5,85\n",
    "6,82\n",
    "7,78\n",
    "8,85\n",
    "9,90\n",
    "10,85\n",
    "The program should calculate the mean, median, and mode of the test scores and display the results\n",
    "in a table."
   ]
  },
  {
   "cell_type": "code",
   "execution_count": null,
   "id": "dec069a8-0637-4223-93b3-2f82cf085f36",
   "metadata": {},
   "outputs": [],
   "source": [
    "import pandas as pd\n",
    "\n",
    "# Prompt the user to enter the file path of the CSV file containing the student data\n",
    "file_path = input(\"Enter the file path of the CSV file containing the student data: \")\n",
    "\n",
    "# Read the CSV file into a Pandas DataFrame\n",
    "df = pd.read_csv(file_path)\n",
    "\n",
    "# Calculate the mean, median, and mode of the test scores using Pandas tools\n",
    "mean = df[\"Test Score\"].mean()\n",
    "median = df[\"Test Score\"].median()\n",
    "mode = df[\"Test Score\"].mode()\n",
    "\n",
    "# Display the mean, median, and mode in a table\n",
    "table = pd.DataFrame({\"Statistic\": [\"Mean\", \"Median\", \"Mode\"], \"Value\": [mean, median, mode]})\n",
    "print(table)\n"
   ]
  },
  {
   "cell_type": "code",
   "execution_count": null,
   "id": "725df776-a463-47a7-8807-460e437220cc",
   "metadata": {},
   "outputs": [],
   "source": []
  }
 ],
 "metadata": {
  "kernelspec": {
   "display_name": "Python 3 (ipykernel)",
   "language": "python",
   "name": "python3"
  },
  "language_info": {
   "codemirror_mode": {
    "name": "ipython",
    "version": 3
   },
   "file_extension": ".py",
   "mimetype": "text/x-python",
   "name": "python",
   "nbconvert_exporter": "python",
   "pygments_lexer": "ipython3",
   "version": "3.10.8"
  }
 },
 "nbformat": 4,
 "nbformat_minor": 5
}
