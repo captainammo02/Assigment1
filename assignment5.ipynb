{
 "cells": [
  {
   "cell_type": "markdown",
   "id": "2ccf1231-e88d-4962-9d09-4775f0868e4d",
   "metadata": {},
   "source": [
    "1. Who developed python progrmming language?\n",
    "Ans : Python was created by Guido van Rossum, and first released on February 20, 1991."
   ]
  },
  {
   "cell_type": "markdown",
   "id": "16cf1c4d-6ce2-43f0-82ec-0f3348b23be1",
   "metadata": {},
   "source": [
    "2. Which type of programming does python support?\n",
    "Ans : Python is a multi-paradigm programming language. Object-oriented programming and structured programming are fully supported, and many of their features support functional programming and aspect-oriented programming (including metaprogramming and metaobjects)."
   ]
  },
  {
   "cell_type": "markdown",
   "id": "b2792700-9266-40e9-b815-d83a2109cbc2",
   "metadata": {},
   "source": [
    "3. Is python case sensitive when dealing identifiers?\n",
    "Ans : Python is a case-sensitive language."
   ]
  },
  {
   "cell_type": "markdown",
   "id": "7b28d446-dd64-4618-89ab-7b5be05ea64d",
   "metadata": {},
   "source": [
    "4. What is the correct extension of python file?\n",
    "Ans : The extensions for Python files is - . py"
   ]
  },
  {
   "cell_type": "markdown",
   "id": "c8746520-3322-42a9-b848-b790b95e812a",
   "metadata": {},
   "source": [
    "5. Is python code compiled or interpreted?\n",
    "Ans : It is interpreted."
   ]
  },
  {
   "cell_type": "markdown",
   "id": "c8bb1573-d398-4a24-938c-45724e281aaf",
   "metadata": {},
   "source": [
    "6. Name a few blocks of code used to define in python language?\n",
    "Ans : The following are blocks: a module, a function body, and a class definition. Each command typed interactively is a block. A script file (a file given as standard input to the interpreter or specified as a command line argument to the interpreter) is a code block."
   ]
  },
  {
   "cell_type": "markdown",
   "id": "57fe15cc-3369-48e2-b04e-9a59cdb2facd",
   "metadata": {},
   "source": [
    "7. State a character used to give single-line comment in python?\n",
    "Ans : Hash character(#) is used to comment the line in the Python program"
   ]
  },
  {
   "cell_type": "markdown",
   "id": "4587ac32-cf12-47ee-b90f-9a3abac28e7a",
   "metadata": {},
   "source": [
    "8. Name a function which can help us to find the version of python that we are currently working on?\n",
    "Ans : To get the Version of the python Interpreter, they are listed as follows: Using sys.version method. Using python_version() function."
   ]
  },
  {
   "cell_type": "markdown",
   "id": "92bb0916-2865-42aa-ae32-93b18258563c",
   "metadata": {},
   "source": [
    "9. Python sipports the creation of anonymous function at runtime, using a construct called  \n",
    "Ans :  \"lambda\""
   ]
  },
  {
   "cell_type": "markdown",
   "id": "d288609d-9779-4c4c-8e4d-25505fc9f54d",
   "metadata": {},
   "source": [
    "10. What does pip stand for Python?\n",
    "Ans : PIP is a recursive acronym for “Preferred Installer Program”\n",
    "PIP stands for \"Pip Installs Packages\". It is a package manager for Python that allows you to easily install and manage third-party libraries and modules for your Python projects. "
   ]
  },
  {
   "cell_type": "markdown",
   "id": "9dd848ba-88fb-4186-8cf2-a8064a958615",
   "metadata": {},
   "source": [
    "11. Mention a few built-in functions in python?\n",
    "Ans : print( ) function.\n",
    "type( ) function.\n",
    "input( ) function.\n",
    "abs( ) function.\n",
    "pow( ) function."
   ]
  },
  {
   "cell_type": "markdown",
   "id": "9cba1058-8024-4410-a07f-8098fdbc70c2",
   "metadata": {},
   "source": [
    "12. What is the maximum possible length of an identifiers in python?\n",
    "Ans : An identifier can have a maximum length of 79 characters in Python."
   ]
  },
  {
   "cell_type": "markdown",
   "id": "2dbaaa76-9dcb-4f6a-b3f9-9d03910c4458",
   "metadata": {},
   "source": [
    "13. What are the benefits of using python?\n",
    "Ans : 1. Easy to learn: Python has a simple and easy-to-understand syntax that makes it easier for beginners to learn and write code quickly.\n",
    "\n",
    "2.Large community support: Python has a large and active community that provides a lot of resources, libraries, and tools that can be used to help solve complex problems.\n",
    "\n",
    "3.Versatile: Python can be used for a wide range of applications, including web development, data science, machine learning, scientific computing, automation, and more.\n",
    "\n",
    "4.Portable: Python can be run on different platforms like Windows, Linux, and macOS.\n",
    "\n",
    "5.Plenty of libraries and frameworks: Python has a rich collection of libraries and frameworks for tasks such as web development, data analysis, machine learning, scientific computing, and more."
   ]
  },
  {
   "cell_type": "markdown",
   "id": "303ac19d-a986-44ba-a5e3-c4bb4351c382",
   "metadata": {},
   "source": [
    "14. How is memory managed in python?\n",
    "Ans : Memory management in Python involves a private heap containing all Python objects and data structures. The management of this private heap is ensured internally by the Python memory manager."
   ]
  },
  {
   "cell_type": "markdown",
   "id": "433bc3e9-8b31-4e56-b3b8-7f6656f1ac33",
   "metadata": {},
   "source": [
    "15. How to install python on Windows and seth path variable?\n",
    "Ans : \n",
    "1.Download the latest version of Python from the official website: https://www.python.org/downloads/windows/\n",
    "\n",
    "2.Run the downloaded installer and follow the prompts to complete the installation. During the installation process, you should see an option to add Python to the system path.\n",
    "\n",
    "3.Check if Python is installed and added to the path by opening the command prompt and typing \"python\" followed by the enter key. If Python is installed and added to the path, you should see the Python version information and the Python prompt (\">>>\").\n",
    "\n",
    "4.If Python is not recognized, you will need to manually add it to the path by following these steps:\n",
    "\n",
    "    a. Open the Start menu and search for \"Environment Variables\".\n",
    "\n",
    "    b. Click on \"Edit the system environment variables\" and then click on the \"Environment Variables\" button.\n",
    "\n",
    "    c. Under \"System Variables\", scroll down and find the \"Path\" variable. Click \"Edit\".\n",
    "\n",
    "    d. Click \"New\" and add the path to the Python executable file. The default location is   \"C:\\PythonXX;C:\\PythonXX\\Scripts\", where \"XX\" is the version number of Python installed. Add these two paths to the \"Path\" variable.\n",
    "\n",
    "    e. Click \"OK\" to close all the windows and save the changes.\n",
    "\n",
    "5.Close and reopen the command prompt to apply the changes.\n",
    "\n",
    "Once you have completed these steps, you should be able to run Python from the command prompt and any other terminal or command-line tool on your Windows system.\n",
    "\n",
    "\n",
    "\n"
   ]
  },
  {
   "cell_type": "code",
   "execution_count": null,
   "id": "7d10120d-b94b-4753-b999-2f0df8b7f80c",
   "metadata": {},
   "outputs": [],
   "source": [
    "16. Is indentaion required in python?\n",
    "Ans : Indentation is mandatory in python to define the blocks of statements."
   ]
  }
 ],
 "metadata": {
  "kernelspec": {
   "display_name": "Python 3 (ipykernel)",
   "language": "python",
   "name": "python3"
  },
  "language_info": {
   "codemirror_mode": {
    "name": "ipython",
    "version": 3
   },
   "file_extension": ".py",
   "mimetype": "text/x-python",
   "name": "python",
   "nbconvert_exporter": "python",
   "pygments_lexer": "ipython3",
   "version": "3.10.8"
  }
 },
 "nbformat": 4,
 "nbformat_minor": 5
}
