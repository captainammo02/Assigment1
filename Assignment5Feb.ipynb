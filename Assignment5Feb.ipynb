{
 "cells": [
  {
   "cell_type": "markdown",
   "id": "c83c1610-ca41-4b27-aed9-b0f8cac086bf",
   "metadata": {},
   "source": [
    "Q1. Explain Class and Object with respect to Object-Oriented Programming. Give a suitable example."
   ]
  },
  {
   "cell_type": "markdown",
   "id": "228fbe6d-9801-4f96-8dad-421475130b08",
   "metadata": {},
   "source": [
    "In object-oriented programming (OOP), a class is a blueprint or a template for creating objects. It defines a set of properties and behaviors that objects of that class will have. An object, on the other hand, is an instance of a class, created using the class blueprint. It represents a specific entity that has its own unique properties and behaviors.\n",
    "\n",
    "Let's consider a simple example of a class called \"Person.\" This class can have properties such as \"name,\" \"age,\" and \"gender,\" and behaviors such as \"speak,\" \"walk,\" and \"eat.\"\n",
    "\n",
    "To create an object of the Person class, we can instantiate it by assigning values to its properties. For instance, we can create an object of the Person class with the name \"John,\" age \"25,\" and gender \"male.\" This object would represent a specific person with the given properties.\n",
    "\n",
    "We can then use the behaviors of the Person class to manipulate the object's properties. For example, we can call the \"speak\" method on the Person object to make them say something, or the \"walk\" method to make them move.\n",
    "\n",
    "In summary, the Person class example illustrates how a class can be used to define the properties and behaviors of a person, and how objects of that class can be created to represent specific instances of a person with their own unique properties and behaviors."
   ]
  },
  {
   "cell_type": "code",
   "execution_count": 5,
   "id": "943e78b7-629a-4058-a9c7-6e24030f428b",
   "metadata": {},
   "outputs": [],
   "source": [
    "class Person:\n",
    "    def __init__(self, name, age, gender):\n",
    "        self.name = name\n",
    "        self.age = age\n",
    "        self.gender = gender\n",
    "        \n",
    "    def speak(self, message):\n",
    "        print(f\"{self.name} says: {message}\")\n",
    "        \n",
    "    def walk(self):\n",
    "        print(f\"{self.name} is walking\")\n",
    "        \n",
    "    def eat(self, food):\n",
    "        print(f\"{self.name} is eating {food}\")\n"
   ]
  },
  {
   "cell_type": "code",
   "execution_count": 8,
   "id": "3c06bcda-436b-4165-94ff-028abdd19234",
   "metadata": {},
   "outputs": [],
   "source": [
    "person1 = Person(\"John\", 25, \"male\")\n"
   ]
  },
  {
   "cell_type": "code",
   "execution_count": 12,
   "id": "9b1040ce-200b-4feb-ab6a-54da37da1b18",
   "metadata": {},
   "outputs": [
    {
     "name": "stdout",
     "output_type": "stream",
     "text": [
      "John says: Hello, how are you?\n",
      "John is walking\n",
      "John is eating pizza\n"
     ]
    }
   ],
   "source": [
    "person1.speak(\"Hello, how are you?\")\n",
    "person1.walk()\n",
    "person1.eat(\"pizza\")\n"
   ]
  },
  {
   "cell_type": "markdown",
   "id": "e445b520-59e8-4382-813a-3645e2418b32",
   "metadata": {},
   "source": [
    "Q2. Name the four pillars of OOPs."
   ]
  },
  {
   "cell_type": "markdown",
   "id": "bf1ef769-fced-42d1-9a49-bb85a0e5367d",
   "metadata": {},
   "source": [
    "1.Encapsulation: Encapsulation is the practice of hiding the implementation details of an object from the outside world and instead exposing a public interface that can be used to interact with the object. This allows objects to be treated as black boxes, with their internal workings hidden from the user. Encapsulation helps to promote modular code, as objects can be modified without affecting the rest of the codebase. It also helps to enforce data integrity, as data can only be modified through the object's public interface.\n",
    "\n",
    "2.Abstraction: Abstraction is the process of simplifying complex systems by breaking them down into smaller, more manageable parts. In OOP, abstraction is achieved by defining abstract classes or interfaces that specify the basic behaviors that a group of related objects should have. Concrete classes can then inherit from these abstract classes or interfaces and provide their own implementation of the required behaviors. Abstraction helps to promote code reusability and maintainability, as common behaviors can be defined in abstract classes and reused throughout the codebase.\n",
    "\n",
    "3.Inheritance: Inheritance is the practice of creating new classes based on existing classes, inheriting the properties and behaviors of the parent class. Inheritance helps to promote code reuse and modularity, as it allows for the creation of specialized classes that can be built on top of more general classes. It also helps to promote code maintenance, as changes to the parent class will be reflected in all of its child classes.\n",
    "\n",
    "4.Polymorphism: Polymorphism is the ability of objects of different classes to be used interchangeably, as long as they share a common interface. Polymorphism allows for code to be written that can work with a variety of objects, without needing to know the specific details of each object. This helps to promote code flexibility and reusability, as objects can be swapped in and out without affecting the functionality of the code."
   ]
  },
  {
   "cell_type": "markdown",
   "id": "908731fc-5528-4228-9ff6-4b8a9e075f4f",
   "metadata": {},
   "source": [
    "Q3. Explain why the __init__() function is used. Give a suitable example."
   ]
  },
  {
   "cell_type": "markdown",
   "id": "3c99b443-6c1b-4a86-9418-98b3b79aab89",
   "metadata": {},
   "source": [
    "n Python, the __init__() function is a special method that is used to initialize a newly created object of a class. It is called automatically when an object is created, and its purpose is to set initial values for the object's properties."
   ]
  },
  {
   "cell_type": "code",
   "execution_count": 14,
   "id": "52718e81-8160-47dd-a0c1-41d0665e1cc7",
   "metadata": {},
   "outputs": [
    {
     "name": "stdout",
     "output_type": "stream",
     "text": [
      "John\n",
      "25\n",
      "Jane\n",
      "30\n"
     ]
    }
   ],
   "source": [
    "class Person:\n",
    "    def __init__(self, name, age):\n",
    "        self.name = name\n",
    "        self.age = age\n",
    "        \n",
    "person1 = Person(\"John\", 25)\n",
    "person2 = Person(\"Jane\", 30)\n",
    "\n",
    "print(person1.name)\n",
    "print(person1.age) \n",
    "\n",
    "print(person2.name) \n",
    "print(person2.age) \n"
   ]
  },
  {
   "cell_type": "markdown",
   "id": "4af88096-98a8-4de6-b736-fb225853aa76",
   "metadata": {},
   "source": [
    "Q4. Why self is used in OOPs?"
   ]
  },
  {
   "cell_type": "markdown",
   "id": "34142225-a772-4d68-973d-20c9e4470875",
   "metadata": {},
   "source": [
    "In object-oriented programming (OOP), self is a reference to the instance of the class. It is a parameter that is automatically passed to each method of a class when an instance of the class is created. The self parameter is used to refer to the instance variables and methods of the class."
   ]
  },
  {
   "cell_type": "code",
   "execution_count": 16,
   "id": "9441bf7f-1a4e-4f9b-b0ee-ae76b074796d",
   "metadata": {},
   "outputs": [
    {
     "name": "stdout",
     "output_type": "stream",
     "text": [
      "Hello, my name is John and I am 25 years old.\n",
      "Hello, my name is Jane and I am 30 years old.\n"
     ]
    }
   ],
   "source": [
    "class Person:\n",
    "    def __init__(self, name, age):\n",
    "        self.name = name\n",
    "        self.age = age\n",
    "\n",
    "    def say_hello(self):\n",
    "        print(f\"Hello, my name is {self.name} and I am {self.age} years old.\")\n",
    "\n",
    "person1 = Person(\"John\", 25)\n",
    "person2 = Person(\"Jane\", 30)\n",
    "\n",
    "person1.say_hello() \n",
    "person2.say_hello()\n"
   ]
  },
  {
   "cell_type": "markdown",
   "id": "de92ec62-1275-4241-adce-d0961e1cb4a4",
   "metadata": {},
   "source": [
    "Q5. What is inheritance? Give an example for each type of inheritance."
   ]
  },
  {
   "cell_type": "markdown",
   "id": "59ac87a1-5ad9-4a3d-97e9-684c53e25ed2",
   "metadata": {},
   "source": [
    "In object-oriented programming, inheritance is a mechanism that allows a class to inherit properties and behavior from another class. The class that inherits from another class is called the subclass, while the class that is inherited from is called the superclass."
   ]
  },
  {
   "cell_type": "code",
   "execution_count": 17,
   "id": "ba158b49-f5d8-4554-b258-07c215711dd8",
   "metadata": {},
   "outputs": [
    {
     "name": "stdout",
     "output_type": "stream",
     "text": [
      "I am a dog.\n"
     ]
    }
   ],
   "source": [
    "# Single inheritance: When a subclass inherits properties and behavior from a single superclass.\n",
    "class Animal:\n",
    "    def __init__(self, name):\n",
    "        self.name = name\n",
    "\n",
    "    def speak(self):\n",
    "        print(\"I am an animal.\")\n",
    "\n",
    "class Dog(Animal):\n",
    "    def __init__(self, name):\n",
    "        super().__init__(name)\n",
    "\n",
    "    def speak(self):\n",
    "        print(\"I am a dog.\")\n",
    "\n",
    "dog1 = Dog(\"Fido\")\n",
    "dog1.speak() # Output: I am a dog.\n"
   ]
  },
  {
   "cell_type": "code",
   "execution_count": 18,
   "id": "aa5a84a6-2325-4b2e-97da-59bbf6682ba7",
   "metadata": {},
   "outputs": [
    {
     "name": "stdout",
     "output_type": "stream",
     "text": [
      "This Tesla Model S was made in 2020 and has an electric range of 400 miles.\n"
     ]
    }
   ],
   "source": [
    "# Multiple inheritance: When a subclass inherits properties and behavior from multiple superclasses.\n",
    "class Car:\n",
    "    def __init__(self, make, model, year):\n",
    "        self.make = make\n",
    "        self.model = model\n",
    "        self.year = year\n",
    "\n",
    "class Electric:\n",
    "    def __init__(self, range):\n",
    "        self.range = range\n",
    "\n",
    "class Tesla(Car, Electric):\n",
    "    def __init__(self, make, model, year, range):\n",
    "        Car.__init__(self, make, model, year)\n",
    "        Electric.__init__(self, range)\n",
    "\n",
    "    def info(self):\n",
    "        print(f\"This {self.make} {self.model} was made in {self.year} and has an electric range of {self.range} miles.\")\n",
    "\n",
    "tesla1 = Tesla(\"Tesla\", \"Model S\", 2020, 400)\n",
    "tesla1.info() "
   ]
  },
  {
   "cell_type": "code",
   "execution_count": 19,
   "id": "ced62877-a83e-4f61-ab54-ca98b56df354",
   "metadata": {},
   "outputs": [
    {
     "name": "stdout",
     "output_type": "stream",
     "text": [
      "I feed my young with milk.\n"
     ]
    }
   ],
   "source": [
    "# Multi-level inheritance: When a subclass inherits from a superclass, which in turn inherits from another superclass.\n",
    "class Animal:\n",
    "    def __init__(self, name):\n",
    "        self.name = name\n",
    "\n",
    "    def speak(self):\n",
    "        print(\"I am an animal.\")\n",
    "\n",
    "class Mammal(Animal):\n",
    "    def __init__(self, name):\n",
    "        super().__init__(name)\n",
    "\n",
    "    def feed_young(self):\n",
    "        print(\"I feed my young with milk.\")\n",
    "\n",
    "class Dog(Mammal):\n",
    "    def __init__(self, name):\n",
    "        super().__init__(name)\n",
    "\n",
    "    def speak(self):\n",
    "        print(\"I am a dog.\")\n",
    "\n",
    "dog1 = Dog(\"Fido\")\n",
    "dog1.feed_young() \n"
   ]
  },
  {
   "cell_type": "code",
   "execution_count": 20,
   "id": "027b3fb8-1f19-4060-b59b-4bbc2eb4ae6a",
   "metadata": {},
   "outputs": [
    {
     "name": "stdout",
     "output_type": "stream",
     "text": [
      "I am a dog.\n",
      "I am a cat.\n"
     ]
    }
   ],
   "source": [
    "# Hierarchical inheritance: When multiple subclasses inherit from a single superclass.\n",
    "class Animal:\n",
    "    def __init__(self, name):\n",
    "        self.name = name\n",
    "\n",
    "    def speak(self):\n",
    "        print(\"I am an animal.\")\n",
    "\n",
    "class Dog(Animal):\n",
    "    def __init__(self, name):\n",
    "        super().__init__(name)\n",
    "\n",
    "    def speak(self):\n",
    "        print(\"I am a dog.\")\n",
    "\n",
    "class Cat(Animal):\n",
    "    def __init__(self, name):\n",
    "        super().__init__(name)\n",
    "\n",
    "    def speak(self):\n",
    "        print(\"I am a cat.\")\n",
    "\n",
    "dog1 = Dog(\"Fido\")\n",
    "cat1 = Cat(\"Fluffy\")\n",
    "\n",
    "dog1.speak() \n",
    "cat1.speak() \n"
   ]
  },
  {
   "cell_type": "code",
   "execution_count": null,
   "id": "4c73658b-2c9b-490b-8b3c-b5f49e7bf7f8",
   "metadata": {},
   "outputs": [],
   "source": []
  }
 ],
 "metadata": {
  "kernelspec": {
   "display_name": "Python 3 (ipykernel)",
   "language": "python",
   "name": "python3"
  },
  "language_info": {
   "codemirror_mode": {
    "name": "ipython",
    "version": 3
   },
   "file_extension": ".py",
   "mimetype": "text/x-python",
   "name": "python",
   "nbconvert_exporter": "python",
   "pygments_lexer": "ipython3",
   "version": "3.10.8"
  }
 },
 "nbformat": 4,
 "nbformat_minor": 5
}
