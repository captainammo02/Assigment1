{
 "cells": [
  {
   "cell_type": "markdown",
   "id": "554c66d8-86c9-44e6-bd64-52bca5630d0a",
   "metadata": {},
   "source": [
    "Q1. What is Abstraction in OOps? Explain with an example."
   ]
  },
  {
   "cell_type": "markdown",
   "id": "47cdef98-e2fb-460c-a801-a14bffebac03",
   "metadata": {},
   "source": [
    "Ans : Abstraction is the process of hiding the internal details of an application from the outer world. Abstraction is used to describe things in simple terms. It's used to create a boundary between the application and the client programs"
   ]
  },
  {
   "cell_type": "code",
   "execution_count": 1,
   "id": "488a3f74-7f2c-40dd-ba7f-7bbe53545ac8",
   "metadata": {},
   "outputs": [
    {
     "name": "stdout",
     "output_type": "stream",
     "text": [
      "25\n",
      "28.26\n"
     ]
    }
   ],
   "source": [
    "#example\n",
    "from abc import ABC, abstractmethod\n",
    "\n",
    "class Shape(ABC):\n",
    "    @abstractmethod\n",
    "    def area(self):\n",
    "        pass\n",
    "\n",
    "class Square(Shape):\n",
    "    def __init__(self, side):\n",
    "        self.side = side\n",
    "\n",
    "    def area(self):\n",
    "        return self.side ** 2\n",
    "\n",
    "class Circle(Shape):\n",
    "    def __init__(self, radius):\n",
    "        self.radius = radius\n",
    "\n",
    "    def area(self):\n",
    "        return 3.14 * self.radius ** 2\n",
    "\n",
    "square = Square(5)\n",
    "circle = Circle(3)\n",
    "\n",
    "print(square.area())  \n",
    "print(circle.area()) "
   ]
  },
  {
   "cell_type": "markdown",
   "id": "ce57f1f9-af48-4f09-b2e3-b987f73417c9",
   "metadata": {},
   "source": [
    "Q2. Differentiate between Abstraction and Encapsulation. Explain with an example."
   ]
  },
  {
   "cell_type": "markdown",
   "id": "cb49c012-700c-4125-8fbe-d77e5e29c873",
   "metadata": {},
   "source": [
    "Ans : Abstraction and Encapsulation are two fundamental concepts in Object-Oriented Programming (OOPs), which are often used interchangeably. However, they are two distinct concepts that serve different purposes.\n",
    "\n",
    "Abstraction is the process of representing complex real-world entities as simplified and generalized models. It focuses on defining the essential features and behaviors of an object, while hiding or abstracting away the unnecessary or irrelevant details. Abstraction is achieved through the use of abstract classes, interfaces, and methods, which define a set of properties and behaviors without providing the specific implementation details.\n",
    "\n",
    "Encapsulation, on the other hand, is the process of hiding the internal details of an object from the outside world and providing a well-defined interface for interacting with the object. It is a mechanism for ensuring that the internal state of an object is not accessed or modified directly by external entities, but only through a set of methods provided by the object."
   ]
  },
  {
   "cell_type": "code",
   "execution_count": null,
   "id": "7ba4c8b7-2388-4b7f-87d3-7358bb8e0dbd",
   "metadata": {},
   "outputs": [],
   "source": [
    "class Rectangle:\n",
    "    def __init__(self, width, height):\n",
    "        self.__width = max(0, width)\n",
    "        self.__height = max(0, height)\n",
    "\n",
    "    def set_width(self, width):\n",
    "        self.__width = max(0, width)\n",
    "\n",
    "    def set_height(self, height):\n",
    "        self.__height = max(0, height)\n",
    "\n",
    "    def get_width(self):\n",
    "        return self.__width\n",
    "\n",
    "    def get_height(self):\n",
    "        return self.__height\n",
    "    \n",
    "# ***In this example, the __width and __height variables are private and can only be\n",
    "# accessed through the set_width(), set_height(), get_width(), and get_height() methods. \n",
    "# This ensures that the internal state of the object is not modified in an unexpected way and that the interface \n",
    "# for interacting with the object is well-defined.***\n",
    "\n"
   ]
  },
  {
   "cell_type": "markdown",
   "id": "f2bccdb4-7ddc-4073-ae76-a2756babd608",
   "metadata": {},
   "source": [
    "Q3. What is abc module in python? Why is it used?"
   ]
  },
  {
   "cell_type": "markdown",
   "id": "8d70ffa3-3dd2-417b-b5fb-5ac4125215b7",
   "metadata": {},
   "source": [
    "The 'abc' module in the Python library provides the infrastructure for defining custom abstract base classes. Abstract class cannot be instantiated in python. An Abstract method can be call by its subclasses."
   ]
  },
  {
   "cell_type": "code",
   "execution_count": null,
   "id": "8a05f246-5611-452c-97ca-77b766b80ab1",
   "metadata": {},
   "outputs": [],
   "source": [
    "from abc import ABC, abstractmethod\n",
    "\n",
    "class Shape(ABC):\n",
    "    @abstractmethod\n",
    "    def area(self):\n",
    "        pass\n",
    "\n",
    "class Rectangle(Shape):\n",
    "    def __init__(self, width, height):\n",
    "        self.width = width\n",
    "        self.height = height\n",
    "\n",
    "    def area(self):\n",
    "        return self.width * self.height\n",
    "\n",
    "class Circle(Shape):\n",
    "    def __init__(self, radius):\n",
    "        self.radius = radius\n",
    "\n",
    "    def area(self):\n",
    "        return 3.14 * self.radius ** 2\n",
    "\n",
    "r = Rectangle(5, 10)\n",
    "print(\"Rectangle Area:\", r.area())  # Output: Rectangle Area: 50\n",
    "\n",
    "c = Circle(7)\n",
    "print(\"Circle Area:\", c.area())  # Output: Circle Area: 153.86\n"
   ]
  },
  {
   "cell_type": "markdown",
   "id": "84af6b5e-8f17-40a8-9002-fe666abd1249",
   "metadata": {},
   "source": [
    "Q4. How can we achieve data abstraction?\n"
   ]
  },
  {
   "cell_type": "markdown",
   "id": "fa6aaf39-2fe9-4770-9a88-79f8fb4fcf27",
   "metadata": {},
   "source": [
    "Ans : In object-oriented programming, we can achieve data abstraction by defining a class that represents a set of related data and operations on that data. The class can hide the implementation details of the data and only expose a simplified interface for interacting with the data.\n",
    "\n",
    "There are several techniques that can be used to achieve data abstraction in Python, such as:\n",
    "\n",
    "Encapsulation: This is a technique of wrapping data and the methods that operate on that data into a single unit. By doing this, the internal details of the data are hidden from the outside world, and only the public interface is exposed. This can be achieved in Python by using private and protected attributes and methods.\n",
    "\n",
    "Abstract classes and interfaces: Abstract classes and interfaces are used to define a set of methods that must be implemented by any class that inherits from them. This allows for a consistent interface to be defined for a set of related classes, even if the implementation details are different for each class.\n",
    "\n",
    "Properties: Properties are a way to define getter and setter methods for an attribute of a class. By using properties, you can control how the attribute is accessed and set constraints on the values that can be assigned to it.\n",
    "\n",
    "Decorators: Decorators are used to modify the behavior of a function or method. By using decorators, you can add additional functionality to a method without modifying the original method. This can be used to enforce constraints on the data being passed to the method or to modify the return value of the method.\n",
    "\n",
    "Overall, data abstraction is a key concept in object-oriented programming, and it can be achieved in Python using a variety of techniques that allow you to define a simplified interface for interacting with complex data structures."
   ]
  },
  {
   "cell_type": "markdown",
   "id": "1f8e97fa-eb18-402d-ad5e-0426f4da5d7d",
   "metadata": {},
   "source": [
    "Q5. Can we create an instance of an abstract class? Explain your answer."
   ]
  },
  {
   "cell_type": "markdown",
   "id": "d68d02f4-3bc5-4a40-ba3e-162173005a0e",
   "metadata": {},
   "source": [
    "No, we cannot create an instance of an abstract class in Python.\n",
    "\n",
    "An abstract class is a class that is not meant to be instantiated directly, but instead serves as a blueprint for other classes to inherit from. An abstract class is defined using the abc module, and it is typically used to define a set of methods that must be implemented by any class that inherits from it.\n",
    "\n",
    "When we try to create an instance of an abstract class, Python raises a TypeError with the message \"Can't instantiate abstract class [ClassName] with abstract methods [method1], [method2], etc.\" This error occurs because the abstract class has one or more abstract methods that are not implemented, and it is not possible to create an instance of a class that has unimplemented abstract methods."
   ]
  },
  {
   "cell_type": "code",
   "execution_count": null,
   "id": "12ce02d4-1d4c-429a-b5fa-0799df701169",
   "metadata": {},
   "outputs": [],
   "source": [
    "from abc import ABC, abstractmethod\n",
    "\n",
    "class Shape(ABC):\n",
    "    @abstractmethod\n",
    "    def area(self):\n",
    "        pass\n",
    "\n",
    "s = Shape()  # raises TypeError: Can't instantiate abstract class Shape with abstract methods area\n",
    "\n",
    "# In this example, we define an abstract class Shape with one abstract method area(). \n",
    "# When we try to create an instance of the Shape class using the s = Shape() statement, \n",
    "# Python raises a TypeError because Shape is an abstract class and cannot be instantiated directly.\n"
   ]
  },
  {
   "cell_type": "code",
   "execution_count": null,
   "id": "1f35abfc-5e33-4918-ab3f-7cce453ca5c3",
   "metadata": {},
   "outputs": [],
   "source": [
    "# Instead, we should create a concrete subclass that inherits from the abstract class \n",
    "# and implements the abstract methods. For example:\n",
    "\n",
    "class Rectangle(Shape):\n",
    "    def __init__(self, width, height):\n",
    "        self.width = width\n",
    "        self.height = height\n",
    "\n",
    "    def area(self):\n",
    "        return self.width * self.height\n",
    "\n",
    "r = Rectangle(5, 10)\n",
    "print(r.area())  # Output: 50\n",
    "\n",
    "\n"
   ]
  }
 ],
 "metadata": {
  "kernelspec": {
   "display_name": "Python 3 (ipykernel)",
   "language": "python",
   "name": "python3"
  },
  "language_info": {
   "codemirror_mode": {
    "name": "ipython",
    "version": 3
   },
   "file_extension": ".py",
   "mimetype": "text/x-python",
   "name": "python",
   "nbconvert_exporter": "python",
   "pygments_lexer": "ipython3",
   "version": "3.10.8"
  }
 },
 "nbformat": 4,
 "nbformat_minor": 5
}
