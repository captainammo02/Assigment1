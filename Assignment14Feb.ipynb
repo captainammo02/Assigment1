{
 "cells": [
  {
   "cell_type": "markdown",
   "id": "16413113-bd3c-46c3-928e-4caa88b97433",
   "metadata": {},
   "source": [
    "1. What is multithreading in python? hy is it used? Name the module used to handle threads in python"
   ]
  },
  {
   "cell_type": "markdown",
   "id": "40037c92-fd01-4456-8a33-4646f67a48ce",
   "metadata": {},
   "source": [
    "Multithreading in Python refers to the ability of a program to have multiple threads of execution running concurrently within the same process. This allows for more efficient use of system resources and can improve the performance of certain types of programs.\n",
    "\n",
    "Multithreading is used when a program needs to perform multiple tasks simultaneously or when a single task can be broken down into smaller sub-tasks that can be executed in parallel. Common examples include GUI applications, web servers, and scientific computing."
   ]
  },
  {
   "cell_type": "code",
   "execution_count": 1,
   "id": "29e3c509-34b0-4b2e-950a-bfeb1c41d256",
   "metadata": {},
   "outputs": [
    {
     "name": "stdout",
     "output_type": "stream",
     "text": [
      "Hello from a new thread!\n"
     ]
    }
   ],
   "source": [
    "import threading\n",
    "\n",
    "def my_thread_func():\n",
    "    print(\"Hello from a new thread!\")\n",
    "\n",
    "my_thread = threading.Thread(target=my_thread_func)\n",
    "my_thread.start()\n"
   ]
  },
  {
   "cell_type": "code",
   "execution_count": null,
   "id": "dc7461ff-b4f6-455a-8f77-bd85f8263ef7",
   "metadata": {},
   "outputs": [],
   "source": [
    "Q2. Why threading module used? Write the use of the following functions\n",
    "1. activeCount\n",
    "2. currentThread\n",
    "3. enumerate"
   ]
  },
  {
   "cell_type": "markdown",
   "id": "36675c21-bc5a-440b-979f-6054edcb03b7",
   "metadata": {},
   "source": [
    "The threading module in Python is used for creating and managing threads in a program. It provides a simple and consistent interface for working with threads and includes a variety of functions and classes for controlling thread behavior.\n",
    "\n",
    "Here are the uses of the following functions in the threading module:\n",
    "\n",
    "1.activeCount(): This function returns the number of currently active threads in the program. It can be useful for monitoring the overall activity level of a program and identifying potential performance bottlenecks.\n",
    "\n",
    "2.currentThread(): This function returns a reference to the currently executing thread. This can be useful for accessing information about the current thread, such as its name, ID, or other attributes.\n",
    "\n",
    "3.enumerate(): This function returns a list of all currently active threads in the program. This can be useful for monitoring the overall state of the program and identifying potential issues with thread management or synchronization."
   ]
  },
  {
   "cell_type": "code",
   "execution_count": null,
   "id": "3ed18c0a-87ad-48bd-ae81-387c746c11be",
   "metadata": {},
   "outputs": [],
   "source": [
    "Q3. Explain the following functions\n",
    "1. run()\n",
    "2. start()\n",
    "3. join()\n",
    "4 isAlive()"
   ]
  },
  {
   "cell_type": "markdown",
   "id": "27525a4f-92e9-420b-81d7-d526d8d9c8eb",
   "metadata": {},
   "source": [
    "1.run(): This function is the entry point for a thread when it is started by calling the start() method. The run() method contains the code that will be executed by the thread.\n",
    "\n",
    "2.start(): This function is used to start a thread. When the start() method is called on a Thread object, it creates a new thread and calls the run() method on that thread.\n",
    "\n",
    "3.join(): This function is used to wait for a thread to complete its execution. When the join() method is called on a Thread object, the calling thread is blocked until the target thread completes its execution. This is useful for coordinating the behavior of multiple threads or for waiting for a specific thread to finish before continuing execution.\n",
    "\n",
    "4.isAlive(): This function returns a boolean value indicating whether the thread is currently executing or not. If the thread is currently running, isAlive() will return True, otherwise it will return False."
   ]
  },
  {
   "cell_type": "code",
   "execution_count": null,
   "id": "d66b6033-e6f3-45f9-a9c5-fb030761ee15",
   "metadata": {},
   "outputs": [],
   "source": [
    "Q4. Write a python program to create two threads. Thread one must print the list of squares and thread\n",
    "two must print the list of cubes"
   ]
  },
  {
   "cell_type": "code",
   "execution_count": 2,
   "id": "a42f0234-878e-43f8-8691-7d0ca47e3e34",
   "metadata": {},
   "outputs": [
    {
     "name": "stdout",
     "output_type": "stream",
     "text": [
      "1 squared is 1\n",
      "2 squared is 4\n",
      "3 squared is 9\n",
      "4 squared is 16\n",
      "5 squared is 25\n",
      "6 squared is 36\n",
      "7 squared is 49\n",
      "8 squared is 64\n",
      "9 squared is 81\n",
      "10 squared is 100\n",
      "1 cubed is 1\n",
      "2 cubed is 8\n",
      "3 cubed is 27\n",
      "4 cubed is 64\n",
      "5 cubed is 125\n",
      "6 cubed is 216\n",
      "7 cubed is 343\n",
      "8 cubed is 512\n",
      "9 cubed is 729\n",
      "10 cubed is 1000\n"
     ]
    }
   ],
   "source": [
    "import threading\n",
    "\n",
    "def print_squares():\n",
    "    for i in range(1, 11):\n",
    "        print(f\"{i} squared is {i**2}\")\n",
    "\n",
    "def print_cubes():\n",
    "    for i in range(1, 11):\n",
    "        print(f\"{i} cubed is {i**3}\")\n",
    "\n",
    "square_thread = threading.Thread(target=print_squares)\n",
    "cube_thread = threading.Thread(target=print_cubes)\n",
    "\n",
    "square_thread.start()\n",
    "cube_thread.start()\n",
    "\n",
    "square_thread.join()\n",
    "cube_thread.join()\n"
   ]
  },
  {
   "cell_type": "code",
   "execution_count": null,
   "id": "33cccbf4-4507-442d-adf0-2c5d5277a13a",
   "metadata": {},
   "outputs": [],
   "source": [
    "Q5. State advantages and disadvantages of multithreading"
   ]
  },
  {
   "cell_type": "markdown",
   "id": "20371c85-d8c0-437c-b52d-0cfc66ba1764",
   "metadata": {},
   "source": [
    "Advantages:\n",
    "\n",
    "1.Increased responsiveness and interactivity: Multithreading can make a program more responsive to user input, since time-consuming tasks can be moved to a separate thread and run in the background while the main thread remains free to respond to user events.\n",
    "\n",
    "2.Improved performance: Multithreading can improve the overall performance of a program, especially in cases where there are multiple CPU cores available. By dividing a program into multiple threads, it is possible to take advantage of parallel processing to speed up execution.\n",
    "\n",
    "3.Simplified program design: In some cases, multithreading can simplify program design by allowing different tasks to be handled in separate threads rather than all being handled in a single, complex control flow.\n",
    "\n",
    "4.Better resource utilization: By allowing multiple threads to execute concurrently, multithreading can help to better utilize available resources, such as CPU time and memory.\n",
    "\n",
    "Disadvantages:\n",
    "\n",
    "1.Complexity: Multithreading can introduce significant complexity to a program, since multiple threads must often coordinate their activities in order to avoid race conditions and other concurrency-related issues.\n",
    "\n",
    "2.Difficult to debug: Multithreaded programs can be difficult to debug, since bugs may only appear under certain threading conditions or race conditions.\n",
    "\n",
    "3.Increased overhead: Multithreading introduces additional overhead due to the need for thread creation, synchronization, and communication. In some cases, this overhead can actually slow down program execution rather than speeding it up.\n",
    "\n",
    "4.Resource contention: Multiple threads running concurrently can compete for shared resources, such as CPU time, memory, and I/O resources. This can lead to resource contention issues and may reduce overall program performance."
   ]
  },
  {
   "cell_type": "code",
   "execution_count": null,
   "id": "f91fc229-f0fe-4878-88b2-10fada52e7dd",
   "metadata": {},
   "outputs": [],
   "source": [
    "Q6. Explain deadlocks and race conditions."
   ]
  }
 ],
 "metadata": {
  "kernelspec": {
   "display_name": "Python 3 (ipykernel)",
   "language": "python",
   "name": "python3"
  },
  "language_info": {
   "codemirror_mode": {
    "name": "ipython",
    "version": 3
   },
   "file_extension": ".py",
   "mimetype": "text/x-python",
   "name": "python",
   "nbconvert_exporter": "python",
   "pygments_lexer": "ipython3",
   "version": "3.10.8"
  }
 },
 "nbformat": 4,
 "nbformat_minor": 5
}
