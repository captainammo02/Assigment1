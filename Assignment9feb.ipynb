{
 "cells": [
  {
   "cell_type": "markdown",
   "id": "21eccfbc-ca69-456c-9db0-d01c5cfff61a",
   "metadata": {},
   "source": [
    "Q1, Create a vehicle class with an init method having instance variables as name_of_vehicle, max_speed\n",
    "and average_of_vehicle."
   ]
  },
  {
   "cell_type": "code",
   "execution_count": 1,
   "id": "74a3d96a-2572-4612-8277-42f5f5242ec2",
   "metadata": {},
   "outputs": [],
   "source": [
    "class Vehicle:\n",
    "    def __init__(self, name_of_vehicle, max_speed, average_of_vehicle):\n",
    "        self.name_of_vehicle = name_of_vehicle\n",
    "        self.max_speed = max_speed\n",
    "        self.average_of_vehicle = average_of_vehicle\n"
   ]
  },
  {
   "cell_type": "code",
   "execution_count": 2,
   "id": "2a842e8b-1a5b-4a41-ac0a-c3336c564cfa",
   "metadata": {},
   "outputs": [
    {
     "name": "stdout",
     "output_type": "stream",
     "text": [
      "Car 120 50\n",
      "Bike 80 40\n"
     ]
    }
   ],
   "source": [
    "car = Vehicle(\"Car\", 120, 50)\n",
    "bike = Vehicle(\"Bike\", 80, 40)\n",
    "\n",
    "print(car.name_of_vehicle, car.max_speed, car.average_of_vehicle) # Output: Car 120 50\n",
    "print(bike.name_of_vehicle, bike.max_speed, bike.average_of_vehicle) # Output: Bike 80 40\n"
   ]
  },
  {
   "cell_type": "markdown",
   "id": "133082bf-bb7a-42e8-b0fd-21fcba353092",
   "metadata": {},
   "source": [
    "Q2. Create a child class car from the vehicle class created in Que 1, which will inherit the vehicle class.\n",
    "Create a method named seating_capacity which takes capacity as an argument and returns the name of\n",
    "the vehicle and its seating capacity."
   ]
  },
  {
   "cell_type": "code",
   "execution_count": 3,
   "id": "626db7dd-2c4e-47c8-b2df-4958afa14916",
   "metadata": {},
   "outputs": [],
   "source": [
    "class Car(Vehicle):\n",
    "    def __init__(self, name_of_vehicle, max_speed, average_of_vehicle):\n",
    "        super().__init__(name_of_vehicle, max_speed, average_of_vehicle)\n",
    "\n",
    "    def seating_capacity(self, capacity):\n",
    "        return f\"{self.name_of_vehicle} has a seating capacity of {capacity} passengers.\"\n"
   ]
  },
  {
   "cell_type": "code",
   "execution_count": 4,
   "id": "cebdd539-fd9f-4798-9714-dd6c0702899f",
   "metadata": {},
   "outputs": [
    {
     "name": "stdout",
     "output_type": "stream",
     "text": [
      "SUV has a seating capacity of 5 passengers.\n"
     ]
    }
   ],
   "source": [
    "car = Car(\"SUV\", 150, 30)\n",
    "print(car.seating_capacity(5))  # Output: SUV has a seating capacity of 5 passengers.\n"
   ]
  },
  {
   "cell_type": "markdown",
   "id": "3b1f664e-904a-4f14-9534-7e69edfec96a",
   "metadata": {},
   "source": [
    "Q3. What is multiple inheritance? Write a python code to demonstrate multiple inheritance."
   ]
  },
  {
   "cell_type": "code",
   "execution_count": 5,
   "id": "4a959865-2edb-4312-99e5-38d5ae6a7248",
   "metadata": {},
   "outputs": [],
   "source": [
    "class Vehicle:\n",
    "    def __init__(self, name, color):\n",
    "        self.name = name\n",
    "        self.color = color\n",
    "\n",
    "class Car(Vehicle):\n",
    "    def __init__(self, name, color, make, model):\n",
    "        super().__init__(name, color)\n",
    "        self.make = make\n",
    "        self.model = model\n",
    "\n",
    "class ElectricVehicle:\n",
    "    def __init__(self, battery_size):\n",
    "        self.battery_size = battery_size\n",
    "\n",
    "class ElectricCar(Car, ElectricVehicle):\n",
    "    def __init__(self, name, color, make, model, battery_size):\n",
    "        Car.__init__(self, name, color, make, model)\n",
    "        ElectricVehicle.__init__(self, battery_size)\n"
   ]
  },
  {
   "cell_type": "code",
   "execution_count": 6,
   "id": "0478aa6c-f3fb-4063-b4bd-29317a171114",
   "metadata": {},
   "outputs": [
    {
     "name": "stdout",
     "output_type": "stream",
     "text": [
      "Tesla\n",
      "Red\n",
      "Model S\n",
      "2021\n",
      "100\n"
     ]
    }
   ],
   "source": [
    "my_car = ElectricCar(\"Tesla\", \"Red\", \"Model S\", \"2021\", 100)\n",
    "print(my_car.name)            # Output: Tesla\n",
    "print(my_car.color)           # Output: Red\n",
    "print(my_car.make)            # Output: Model S\n",
    "print(my_car.model)           # Output: 2021\n",
    "print(my_car.battery_size)    # Output: 100\n"
   ]
  },
  {
   "cell_type": "markdown",
   "id": "048d7c1c-a46a-4db5-8c58-8b11993541bf",
   "metadata": {},
   "source": [
    "Q4. What are getter and setter in python? Create a class and create a getter and a setter method in this\n",
    "class."
   ]
  },
  {
   "cell_type": "markdown",
   "id": "9a59f0b7-2f7f-49e0-99a0-e7fc4907f62d",
   "metadata": {},
   "source": [
    "In object-oriented programming, getters and setters are methods that are used to get and set the values of the private attributes of a class. They allow us to control the access to the instance variables and ensure data encapsulation."
   ]
  },
  {
   "cell_type": "code",
   "execution_count": 7,
   "id": "ca40a90a-8d10-406a-a2b9-a3c96a8d2d63",
   "metadata": {},
   "outputs": [],
   "source": [
    "class Person:\n",
    "    def __init__(self, name, age):\n",
    "        self._name = name\n",
    "        self._age = age\n",
    "\n",
    "    def get_name(self):\n",
    "        return self._name\n",
    "\n",
    "    def set_name(self, name):\n",
    "        self._name = name\n",
    "\n",
    "    def get_age(self):\n",
    "        return self._age\n",
    "\n",
    "    def set_age(self, age):\n",
    "        self._age = age\n"
   ]
  },
  {
   "cell_type": "code",
   "execution_count": 8,
   "id": "ea1ecaa1-4cb2-4a76-9a24-25e865dd0a94",
   "metadata": {},
   "outputs": [
    {
     "name": "stdout",
     "output_type": "stream",
     "text": [
      "John\n",
      "30\n",
      "Jane\n",
      "25\n"
     ]
    }
   ],
   "source": [
    "person1 = Person(\"John\", 30)\n",
    "print(person1.get_name())    # Output: John\n",
    "print(person1.get_age())     # Output: 30\n",
    "\n",
    "person1.set_name(\"Jane\")\n",
    "person1.set_age(25)\n",
    "\n",
    "print(person1.get_name())    # Output: Jane\n",
    "print(person1.get_age())     # Output: 25\n"
   ]
  },
  {
   "cell_type": "code",
   "execution_count": null,
   "id": "1fa9f225-7f09-44f6-b527-66264145c866",
   "metadata": {},
   "outputs": [],
   "source": []
  }
 ],
 "metadata": {
  "kernelspec": {
   "display_name": "Python 3 (ipykernel)",
   "language": "python",
   "name": "python3"
  },
  "language_info": {
   "codemirror_mode": {
    "name": "ipython",
    "version": 3
   },
   "file_extension": ".py",
   "mimetype": "text/x-python",
   "name": "python",
   "nbconvert_exporter": "python",
   "pygments_lexer": "ipython3",
   "version": "3.10.8"
  }
 },
 "nbformat": 4,
 "nbformat_minor": 5
}
