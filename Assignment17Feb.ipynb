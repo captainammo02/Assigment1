{
 "cells": [
  {
   "cell_type": "code",
   "execution_count": null,
   "id": "565d8068-47eb-4a0d-a2d7-666cd0ef2859",
   "metadata": {},
   "outputs": [],
   "source": [
    "Q1. What is a database? Differentiate between SQL and NoSQL databases."
   ]
  },
  {
   "cell_type": "markdown",
   "id": "a21d4e9d-3200-4113-982d-f563400dc869",
   "metadata": {},
   "source": [
    "A database is a collection of organized data that can be easily accessed, managed, and updated. Databases are commonly used in software applications to store, retrieve, and manipulate data.\n",
    "\n",
    "SQL (Structured Query Language) and NoSQL (Not Only SQL) are two types of database management systems. The main differences between SQL and NoSQL databases are:\n",
    "\n",
    "Data structure: SQL databases are table-based, with structured data organized into rows and columns. NoSQL databases are document-based, key-value pairs, column-family, or graph-based, with flexible and unstructured data formats.\n",
    "\n",
    "Schema: SQL databases have a rigid schema that must be defined before data can be added to the database. NoSQL databases have a flexible schema that allows data to be added without a predefined structure.\n",
    "\n",
    "Scalability: SQL databases are vertically scalable, which means that they can only handle increased load by adding more resources to a single server. NoSQL databases are horizontally scalable, which means that they can handle increased load by adding more servers to the database cluster.\n",
    "\n",
    "ACID compliance: SQL databases are generally ACID compliant, which means that they guarantee data consistency, integrity, and transaction durability. NoSQL databases may not be ACID compliant, but they often provide high availability and partition tolerance.\n",
    "\n",
    "Use cases: SQL databases are commonly used for complex queries and transactions in enterprise applications. NoSQL databases are often used for large-scale web applications, real-time analytics, and mobile applications.\n",
    "\n",
    "In summary, SQL databases are best suited for applications that require complex queries and transactions, while NoSQL databases are best suited for applications that require high scalability and flexibility with unstructured data."
   ]
  },
  {
   "cell_type": "markdown",
   "id": "91edd655-240a-44a2-ac7f-59479564acda",
   "metadata": {},
   "source": [
    "Q2. What is DDL? Explain why CREATE, DROP, ALTER, and TRUNCATE are used with an example."
   ]
  },
  {
   "cell_type": "markdown",
   "id": "3850d69d-4601-49ec-b58b-f19a2aa0fd7d",
   "metadata": {},
   "source": [
    "DDL (Data Definition Language) is a subset of SQL used to define, modify, and delete database objects such as tables, indexes, views, and constraints."
   ]
  },
  {
   "cell_type": "code",
   "execution_count": null,
   "id": "cb0e13c0-f536-4c38-8fc0-8429b75df3d2",
   "metadata": {},
   "outputs": [],
   "source": [
    "#CREATE: The CREATE statement is used to create a new database object, such as a table or an index.\n",
    "CREATE TABLE customers (\n",
    "  id INT PRIMARY KEY,\n",
    "  name VARCHAR(50),\n",
    "  email VARCHAR(50),\n",
    "  phone VARCHAR(15)\n",
    ");\n"
   ]
  },
  {
   "cell_type": "code",
   "execution_count": null,
   "id": "cff6fde8-f913-466b-a4ae-0fea0850e831",
   "metadata": {},
   "outputs": [],
   "source": [
    "#DROP: The DROP statement is used to delete an existing database object, such as a table or an index\n",
    "DROP TABLE customers;\n"
   ]
  },
  {
   "cell_type": "code",
   "execution_count": null,
   "id": "ef069b8a-be7a-4cea-8d33-d33645d483ee",
   "metadata": {},
   "outputs": [],
   "source": [
    "#ALTER: The ALTER statement is used to modify the structure of an existing database object, such as adding or removing columns from a table\n",
    "ALTER TABLE customers ADD COLUMN address VARCHAR(100);"
   ]
  },
  {
   "cell_type": "code",
   "execution_count": null,
   "id": "1f73afef-7645-4882-9ca0-84f8f39ef5f4",
   "metadata": {},
   "outputs": [],
   "source": [
    "#TRUNCATE: The TRUNCATE statement is used to remove all the data from an existing table, while keeping the structure of the table intact.\n",
    "TRUNCATE TABLE customers;\n"
   ]
  },
  {
   "cell_type": "markdown",
   "id": "32ff34a9-5ff5-49e6-a99a-92844581b375",
   "metadata": {},
   "source": [
    "Q3. What is DML? Explain INSERT, UPDATE, and DELETE with an example."
   ]
  },
  {
   "cell_type": "markdown",
   "id": "3922c4a3-7b1e-40b8-9e05-461964305e6e",
   "metadata": {},
   "source": [
    "DML (Data Manipulation Language) is a subset of SQL used to manipulate the data in a database."
   ]
  },
  {
   "cell_type": "code",
   "execution_count": null,
   "id": "4117f4c8-3274-4403-a039-5941c7c3fdd1",
   "metadata": {},
   "outputs": [],
   "source": [
    "# INSERT: The INSERT statement is used to insert new rows into a table\n",
    "INSERT INTO customers (id, name, email, phone) VALUES (1, 'John Doe', 'john.doe@example.com', '555-1234');\n"
   ]
  },
  {
   "cell_type": "code",
   "execution_count": null,
   "id": "4fdbab96-6e0d-40fc-baa2-09ea59d63384",
   "metadata": {},
   "outputs": [],
   "source": [
    "# UPDATE: The UPDATE statement is used to modify existing rows in a table\n",
    "UPDATE customers SET email = 'john.doe.new@example.com' WHERE id = 1;\n"
   ]
  },
  {
   "cell_type": "code",
   "execution_count": null,
   "id": "66df8d84-36cd-45f2-b271-72a104cf32d7",
   "metadata": {},
   "outputs": [],
   "source": [
    "# DELETE: The DELETE statement is used to remove rows from a table.\n",
    "DELETE FROM customers WHERE id = 1;\n"
   ]
  },
  {
   "cell_type": "markdown",
   "id": "9f616315-4b96-4d20-8d0d-ba74bc7bed48",
   "metadata": {},
   "source": [
    "Q4. What is DQL? Explain SELECT with an example."
   ]
  },
  {
   "cell_type": "code",
   "execution_count": null,
   "id": "1113f0a8-cea3-43ce-887e-b7746fb5230b",
   "metadata": {},
   "outputs": [],
   "source": [
    "# DQL (Data Query Language) is a subset of SQL used to retrieve data from a database. \n",
    "# The most commonly used DQL statement is SELECT, which is used to retrieve data from one or more tables in a database. \n",
    "# The basic syntax of the SELECT statement is as follows:\n",
    "\n",
    "SELECT name, salary FROM employees WHERE salary > 50000;\n"
   ]
  },
  {
   "cell_type": "markdown",
   "id": "1d148b45-e058-488f-9d0b-a153016493f4",
   "metadata": {},
   "source": [
    "Q5. Explain Primary Key and Foreign Key."
   ]
  },
  {
   "cell_type": "markdown",
   "id": "b5c8eeb9-5df2-48c5-8f42-7c52b83dfe43",
   "metadata": {},
   "source": [
    "A primary key is a column or a set of columns in a table that uniquely identifies each row in that table. It is used to enforce the integrity of the data in the table, and to ensure that each row can be uniquely identified. A primary key cannot contain null values, and must be unique across all rows in the table.\n",
    "\n",
    "A foreign key is a column or a set of columns in a table that refers to the primary key of another table. It is used to establish relationships between tables, and to enforce referential integrity between the tables. A foreign key must reference an existing primary key in another table, and can contain null values if the corresponding primary key allows null values.\n",
    "\n",
    "In summary, a primary key is a column or a set of columns in a table that uniquely identifies each row in that table, while a foreign key is a column or a set of columns in a table that refers to the primary key of another table. These concepts are important for establishing relationships between tables and ensuring data integrity in relational databases."
   ]
  },
  {
   "cell_type": "markdown",
   "id": "9326de41-8c9a-454d-9748-9464af55161c",
   "metadata": {},
   "source": [
    "Q6. Write a python code to connect MySQL to python. Explain the cursor() and execute() method."
   ]
  },
  {
   "cell_type": "code",
   "execution_count": null,
   "id": "3a4c158b-51a0-46eb-83bd-c5be8f79c5f2",
   "metadata": {},
   "outputs": [],
   "source": [
    "import mysql.connector\n",
    "# import mysql.connector\n",
    "#create user 'user'@'%' identified by 'password'\n",
    "mydb = mysql.connector.connect(\n",
    "  host=\"localhost\",\n",
    "  user=\"abc\",\n",
    "  password=\"password\"\n",
    ")\n",
    "print(mydb)\n",
    "mycursor = mydb.cursor()\n",
    "mycursor.execute(\"SHOW DATABASES\")\n",
    "for x in mycursor:\n",
    "  print(x)\n",
    "\n",
    "\n",
    "# The cursor() method creates a new cursor object that can be used to execute SQL queries and fetch results from the database. \n",
    "# The execute() method is used to execute an SQL query. \n",
    "# It takes the query as a string argument and returns a cursor object that can be used to fetch the results."
   ]
  },
  {
   "cell_type": "code",
   "execution_count": null,
   "id": "6acec503-61a6-4a45-83eb-7150fbadc665",
   "metadata": {},
   "outputs": [],
   "source": [
    "Q7. Give the order of execution of SQL clauses in an SQL query."
   ]
  },
  {
   "cell_type": "code",
   "execution_count": null,
   "id": "7599584f-f67b-4df0-885f-1e74cb79be70",
   "metadata": {},
   "outputs": [],
   "source": [
    "The order of execution of SQL clauses in an SQL query is as follows:\n",
    "\n",
    "1.FROM\n",
    "2.JOIN\n",
    "3.WHERE\n",
    "4.GROUP BY\n",
    "5.HAVING\n",
    "6.SELECT\n",
    "7.DISTINCT\n",
    "8.ORDER BY\n",
    "9.LIMIT/OFFSET\n"
   ]
  }
 ],
 "metadata": {
  "kernelspec": {
   "display_name": "Python 3 (ipykernel)",
   "language": "python",
   "name": "python3"
  },
  "language_info": {
   "codemirror_mode": {
    "name": "ipython",
    "version": 3
   },
   "file_extension": ".py",
   "mimetype": "text/x-python",
   "name": "python",
   "nbconvert_exporter": "python",
   "pygments_lexer": "ipython3",
   "version": "3.10.8"
  }
 },
 "nbformat": 4,
 "nbformat_minor": 5
}
